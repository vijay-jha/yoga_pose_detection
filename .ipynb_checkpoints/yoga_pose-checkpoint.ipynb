{
 "cells": [
  {
   "cell_type": "code",
   "execution_count": 1,
   "id": "cd07bbc5",
   "metadata": {},
   "outputs": [],
   "source": [
    "import numpy as np\n",
    "import os\n",
    "import tensorflow as tf\n",
    "import pathlib\n",
    "from tensorflow.keras import datasets, layers, models\n",
    "from sklearn.model_selection import train_test_split\n",
    "import cv2 as cv"
   ]
  },
  {
   "cell_type": "code",
   "execution_count": 2,
   "id": "679f18d7",
   "metadata": {},
   "outputs": [],
   "source": [
    "data_dir = \"./images\"\n",
    "training_dir = os.path.join(data_dir, \"training\")\n",
    "testing_dir = os.path.join(data_dir, \"testing\")\n"
   ]
  },
  {
   "cell_type": "code",
   "execution_count": 6,
   "id": "982d8453",
   "metadata": {},
   "outputs": [],
   "source": [
    "mp = {}\n"
   ]
  },
  {
   "cell_type": "code",
   "execution_count": 9,
   "id": "08f2d8ed",
   "metadata": {},
   "outputs": [],
   "source": [
    "cp = mp"
   ]
  },
  {
   "cell_type": "code",
   "execution_count": 48,
   "id": "13759060",
   "metadata": {},
   "outputs": [
    {
     "data": {
      "text/plain": [
       "{'virabhadrasana_three': 0,\n",
       " 'navasana': 1,\n",
       " 'hanumanasana': 2,\n",
       " 'ardha_pincha_mayurasana': 3,\n",
       " 'baddha_konasana': 4,\n",
       " 'supta_kapotasana': 5,\n",
       " 'phalakasana': 6,\n",
       " 'urdhva_dhanurasana': 7,\n",
       " 'setu_bandha_sarvangasana': 8,\n",
       " 'sivasana': 9,\n",
       " 'padmasana': 10,\n",
       " 'ashta_chandrasana': 11,\n",
       " 'urdhva_mukha_svsnssana': 12,\n",
       " 'camatkarasana': 13,\n",
       " 'utthita_parsvakonasana': 14,\n",
       " 'malasana': 15,\n",
       " 'uttanasana': 16,\n",
       " 'utthita_hasta_padangusthasana': 17,\n",
       " 'adho_mukha_vrksasana': 18,\n",
       " 'ustrasana': 19,\n",
       " 'virabhadrasana_two': 20,\n",
       " 'salamba_bhujangasana': 21,\n",
       " 'ardha_navasana': 22,\n",
       " 'virabhadrasana_one': 23,\n",
       " 'utkatasana': 24,\n",
       " 'ardha_chandrasana': 25,\n",
       " 'ardha_matsyendrasana': 26,\n",
       " 'upavistha_konasana': 27,\n",
       " 'vasisthasana': 28,\n",
       " 'bakasana': 29,\n",
       " 'parsva_virabhadrasana': 30,\n",
       " 'vrksasana': 31,\n",
       " 'adho_mukha_svanasana': 32,\n",
       " 'anjaneyasana': 33,\n",
       " 'pincha_mayurasana': 34,\n",
       " 'paschimottanasana': 35,\n",
       " 'garudasana': 36,\n",
       " 'halasana': 37,\n",
       " 'trikonasana': 38,\n",
       " 'bitilasana': 39,\n",
       " 'balasana': 40,\n",
       " 'eka_pada_rajakapotasana': 41,\n",
       " 'dhanurasana': 42,\n",
       " 'marjaryasana': 43,\n",
       " 'parsvottanasana': 44,\n",
       " 'salamba_sarvangasana': 45,\n",
       " 'alanasana': 46}"
      ]
     },
     "execution_count": 48,
     "metadata": {},
     "output_type": "execute_result"
    }
   ],
   "source": [
    "i = 0\n",
    "for k in cp:\n",
    "    cp[k] = i\n",
    "    i = i + 1\n",
    "cp"
   ]
  },
  {
   "cell_type": "code",
   "execution_count": 80,
   "id": "25e45bda",
   "metadata": {},
   "outputs": [
    {
     "name": "stderr",
     "output_type": "stream",
     "text": [
      "libpng warning: iCCP: known incorrect sRGB profile\n"
     ]
    }
   ],
   "source": [
    "data = []\n",
    "labels = []\n",
    "\n",
    "# Iterate through your dataset folders\n",
    "for class_folder in os.listdir(training_dir):\n",
    "    class_path = os.path.join(training_dir, class_folder)\n",
    "    class_label = class_folder  # You can assign class labels as needed\n",
    "    \n",
    "    if (class_label != '.DS_Store'):\n",
    "        for image_file in os.listdir(class_path):\n",
    "            if (image_file == '.DS_Store'):\n",
    "                continue\n",
    "            image_path = os.path.join(class_path, image_file)\n",
    "            \n",
    "            # Read the image and extract RGB values            \n",
    "            image = cv.imread(image_path)\n",
    "            image = cv.resize(image, (32, 32))  # Resize to match the input size of the model\n",
    "            image = cv.cvtColor(image, cv.COLOR_BGR2RGB)\n",
    "            # Assuming you want to reshape the data for use with machine learning\n",
    "            data.append(image)\n",
    "            labels.append(cp[class_label])"
   ]
  },
  {
   "cell_type": "code",
   "execution_count": 81,
   "id": "a59018b0",
   "metadata": {},
   "outputs": [],
   "source": [
    "X_train, X_test, y_train, y_test = train_test_split(data, labels, test_size=0.2, random_state=42)\n",
    "X_train = np.array(X_train)\n",
    "X_test = np.array(X_test)\n",
    "y_train = np.array(y_train)\n",
    "y_test = np.array(y_test)\n"
   ]
  },
  {
   "cell_type": "code",
   "execution_count": 87,
   "id": "bd44f51c",
   "metadata": {},
   "outputs": [
    {
     "data": {
      "text/plain": [
       "array([46, 32, 21, 25, 37, 28, 32, 28, 16, 26, 26, 29, 32, 23, 16, 25, 24,\n",
       "       43, 45,  3, 37, 24, 13,  8,  8, 12, 42, 43, 38,  8, 41, 37, 44, 24,\n",
       "       27, 15,  4, 46, 10, 42, 25, 35, 33, 15, 45, 28, 19, 29,  7, 29, 18,\n",
       "       42, 10, 42, 41, 19, 37, 39, 33, 25, 45,  0, 39, 17,  7, 10,  4, 18,\n",
       "       41, 24, 23, 44, 10, 19, 39, 25, 17, 29, 24, 37, 37, 37, 23, 37, 36,\n",
       "       17, 31, 26, 18,  6, 19, 39,  8, 35, 28, 15, 29,  6,  6,  1, 29, 39,\n",
       "       19,  4, 10, 36, 46, 19, 35, 29, 24, 29,  9, 13,  1, 19,  6, 35, 35,\n",
       "        3, 28, 37, 12,  8, 10, 23, 18, 12, 30, 32, 25, 36, 24, 37,  7, 17,\n",
       "       36,  0,  9,  3, 28, 26, 40, 16, 26,  2, 25, 31, 44, 20, 17, 14, 29,\n",
       "       28, 39, 39,  8,  6, 16, 19, 39, 30, 40, 12, 21, 24, 35, 24, 14,  8,\n",
       "        4, 39, 23,  1, 26, 37, 33,  7,  0, 26, 13, 14,  6,  8, 33, 20, 25,\n",
       "       36, 46, 45, 22,  2, 33, 42,  4, 37, 39, 31, 12, 41, 37, 41, 35, 33,\n",
       "       39, 36, 19, 31, 22, 29, 27, 16, 17, 24,  7, 36, 17, 36,  8,  8,  0,\n",
       "       23, 26, 21, 18, 25, 14,  0,  6, 42, 23, 32, 15, 36,  8, 31, 26, 19,\n",
       "       13, 21, 26, 13, 20, 41, 24, 10, 45, 43, 36,  0, 43, 29, 32, 45, 10,\n",
       "       14, 15,  4,  3,  0,  2, 10, 24, 13, 24, 43, 18, 37,  3, 14,  6, 40,\n",
       "       37, 32, 18,  3, 10, 43, 21, 40, 28, 31, 17, 33, 29,  4, 38, 18, 45,\n",
       "        3, 42, 12,  7, 20, 44, 15,  3, 14, 10,  5, 40, 39, 26, 14, 26, 18,\n",
       "       29, 40,  4, 32,  7, 14, 43,  4, 10, 15, 45,  3, 15, 42,  6, 39, 43,\n",
       "        3, 39, 36, 35, 21,  7, 42, 35, 34, 35, 19, 16,  4, 32, 30,  7, 23,\n",
       "        7, 39, 20, 20, 26, 36,  9, 40, 26,  6, 40, 20, 18, 15,  8, 14, 21,\n",
       "       29,  4, 19, 40,  6,  4, 37, 39, 37,  7, 38,  7, 13, 14, 44, 42, 20,\n",
       "       37, 15, 40, 20, 42,  2, 32, 15, 19, 44, 26, 33,  4,  4, 20, 13,  2,\n",
       "        0, 41, 10, 35, 42, 24,  8, 26, 42, 16, 36, 16, 32, 37, 46, 42, 31,\n",
       "       37,  4, 35, 28, 23, 13,  6, 35, 33, 10, 42, 40, 19,  4,  8, 19, 24,\n",
       "       23, 23, 16, 18,  9, 40, 10, 36, 35, 24, 38, 43,  8, 43, 21, 32, 13,\n",
       "       23, 24, 17, 45,  7, 39,  5, 21,  2, 16,  4,  2,  4, 43, 40, 40, 35,\n",
       "       37, 20, 21, 21, 41, 44, 36,  8,  8, 35,  7, 40, 32, 25, 31, 16, 34,\n",
       "       10, 17, 10, 31, 28, 20, 15, 45, 10, 36, 26, 39, 14, 36, 35, 41, 19,\n",
       "       35, 33, 36,  0, 13, 37, 26, 26, 18, 33,  8, 32,  0, 41, 11, 32, 16,\n",
       "       34, 44, 26, 14, 29, 12,  8, 33,  4, 19,  2, 29,  3, 31,  4, 23, 44,\n",
       "       17, 14, 36, 28, 12, 17, 45, 12, 37,  8, 15,  3, 39, 24,  4, 41, 16,\n",
       "       43,  2,  6, 15, 14, 10, 12,  4])"
      ]
     },
     "execution_count": 87,
     "metadata": {},
     "output_type": "execute_result"
    }
   ],
   "source": [
    "y_test"
   ]
  },
  {
   "cell_type": "code",
   "execution_count": 83,
   "id": "8a68b0d0",
   "metadata": {},
   "outputs": [],
   "source": [
    "X_train = X_train / 255\n",
    "X_test = X_test / 255"
   ]
  },
  {
   "cell_type": "code",
   "execution_count": 89,
   "id": "3de0fe6f",
   "metadata": {},
   "outputs": [],
   "source": [
    "cnn = models.Sequential([\n",
    "    # cnn\n",
    "    layers.Conv2D(filters=32, kernel_size=(3, 3), activation='relu', input_shape=(32, 32, 3)),\n",
    "    layers.MaxPooling2D((2, 2)),\n",
    "    \n",
    "    layers.Conv2D(filters=32, kernel_size=(3, 3), activation='relu'),\n",
    "    layers.MaxPooling2D((2, 2)),\n",
    "    \n",
    "    # dense\n",
    "    layers.Flatten(),\n",
    "    layers.Dense(64, activation='relu'),\n",
    "    layers.Dense(47, activation='softmax')\n",
    "])"
   ]
  },
  {
   "cell_type": "code",
   "execution_count": 90,
   "id": "5a72a765",
   "metadata": {},
   "outputs": [],
   "source": [
    "cnn.compile(optimizer='adam', \n",
    "           loss='sparse_categorical_crossentropy', \n",
    "           metrics=['accuracy'])"
   ]
  },
  {
   "cell_type": "code",
   "execution_count": 91,
   "id": "a9679f69",
   "metadata": {},
   "outputs": [
    {
     "name": "stdout",
     "output_type": "stream",
     "text": [
      "Epoch 1/25\n",
      " 6/69 [=>............................] - ETA: 0s - loss: 3.8909 - accuracy: 0.0104 "
     ]
    },
    {
     "name": "stderr",
     "output_type": "stream",
     "text": [
      "2023-10-30 17:52:23.317402: I tensorflow/core/grappler/optimizers/custom_graph_optimizer_registry.cc:114] Plugin optimizer for device_type GPU is enabled.\n"
     ]
    },
    {
     "name": "stdout",
     "output_type": "stream",
     "text": [
      "69/69 [==============================] - 1s 9ms/step - loss: 3.8041 - accuracy: 0.0390\n",
      "Epoch 2/25\n",
      "69/69 [==============================] - 1s 8ms/step - loss: 3.5848 - accuracy: 0.0998\n",
      "Epoch 3/25\n",
      "69/69 [==============================] - 1s 8ms/step - loss: 3.0778 - accuracy: 0.2187\n",
      "Epoch 4/25\n",
      "69/69 [==============================] - 1s 8ms/step - loss: 2.6671 - accuracy: 0.3240\n",
      "Epoch 5/25\n",
      "69/69 [==============================] - 1s 8ms/step - loss: 2.3846 - accuracy: 0.3920\n",
      "Epoch 6/25\n",
      "69/69 [==============================] - 1s 8ms/step - loss: 2.2401 - accuracy: 0.4292\n",
      "Epoch 7/25\n",
      "69/69 [==============================] - 1s 8ms/step - loss: 1.9609 - accuracy: 0.5032\n",
      "Epoch 8/25\n",
      "69/69 [==============================] - 1s 8ms/step - loss: 1.8681 - accuracy: 0.5127\n",
      "Epoch 9/25\n",
      "69/69 [==============================] - 1s 8ms/step - loss: 1.8439 - accuracy: 0.5336\n",
      "Epoch 10/25\n",
      "69/69 [==============================] - 1s 8ms/step - loss: 1.7002 - accuracy: 0.5667\n",
      "Epoch 11/25\n",
      "69/69 [==============================] - 1s 8ms/step - loss: 1.5414 - accuracy: 0.6080\n",
      "Epoch 12/25\n",
      "69/69 [==============================] - 1s 8ms/step - loss: 1.5141 - accuracy: 0.6121\n",
      "Epoch 13/25\n",
      "69/69 [==============================] - 1s 9ms/step - loss: 1.5192 - accuracy: 0.6261\n",
      "Epoch 14/25\n",
      "69/69 [==============================] - 1s 9ms/step - loss: 1.4955 - accuracy: 0.6243\n",
      "Epoch 15/25\n",
      "69/69 [==============================] - 1s 9ms/step - loss: 1.4374 - accuracy: 0.6388\n",
      "Epoch 16/25\n",
      "69/69 [==============================] - 1s 8ms/step - loss: 1.5354 - accuracy: 0.6411\n",
      "Epoch 17/25\n",
      "69/69 [==============================] - 1s 8ms/step - loss: 1.6738 - accuracy: 0.6384\n",
      "Epoch 18/25\n",
      "69/69 [==============================] - 1s 8ms/step - loss: 1.6918 - accuracy: 0.6434\n",
      "Epoch 19/25\n",
      "69/69 [==============================] - 1s 8ms/step - loss: 1.6695 - accuracy: 0.6661\n",
      "Epoch 20/25\n",
      "69/69 [==============================] - 1s 8ms/step - loss: 1.7088 - accuracy: 0.6701\n",
      "Epoch 21/25\n",
      "69/69 [==============================] - 1s 8ms/step - loss: 1.9333 - accuracy: 0.6638\n",
      "Epoch 22/25\n",
      "69/69 [==============================] - 1s 9ms/step - loss: 2.4337 - accuracy: 0.6438\n",
      "Epoch 23/25\n",
      "69/69 [==============================] - 1s 9ms/step - loss: 2.2591 - accuracy: 0.6724\n",
      "Epoch 24/25\n",
      "69/69 [==============================] - 1s 8ms/step - loss: 2.6955 - accuracy: 0.6697\n",
      "Epoch 25/25\n",
      "69/69 [==============================] - 1s 8ms/step - loss: 2.4993 - accuracy: 0.6906\n"
     ]
    },
    {
     "data": {
      "text/plain": [
       "<keras.src.callbacks.History at 0x2f6b77c10>"
      ]
     },
     "execution_count": 91,
     "metadata": {},
     "output_type": "execute_result"
    }
   ],
   "source": [
    "cnn.fit(X_train, y_train, epochs=25)"
   ]
  },
  {
   "cell_type": "code",
   "execution_count": 92,
   "id": "d1e52113",
   "metadata": {},
   "outputs": [
    {
     "name": "stdout",
     "output_type": "stream",
     "text": [
      "18/18 [==============================] - 0s 6ms/step - loss: 11.3263 - accuracy: 0.4058\n"
     ]
    },
    {
     "name": "stderr",
     "output_type": "stream",
     "text": [
      "2023-10-30 17:52:41.240741: I tensorflow/core/grappler/optimizers/custom_graph_optimizer_registry.cc:114] Plugin optimizer for device_type GPU is enabled.\n"
     ]
    },
    {
     "data": {
      "text/plain": [
       "[11.326288223266602, 0.4057970941066742]"
      ]
     },
     "execution_count": 92,
     "metadata": {},
     "output_type": "execute_result"
    }
   ],
   "source": [
    "cnn.evaluate(X_test, y_test)"
   ]
  },
  {
   "cell_type": "code",
   "execution_count": 93,
   "id": "c91f606d",
   "metadata": {},
   "outputs": [
    {
     "name": "stdout",
     "output_type": "stream",
     "text": [
      "18/18 [==============================] - 0s 3ms/step\n"
     ]
    },
    {
     "name": "stderr",
     "output_type": "stream",
     "text": [
      "2023-10-30 17:52:46.589477: I tensorflow/core/grappler/optimizers/custom_graph_optimizer_registry.cc:114] Plugin optimizer for device_type GPU is enabled.\n"
     ]
    }
   ],
   "source": [
    "y_pred = cnn.predict(X_test)"
   ]
  },
  {
   "cell_type": "code",
   "execution_count": 94,
   "id": "84a15221",
   "metadata": {},
   "outputs": [],
   "source": [
    "y_classes = [np.argmax(el) for el in y_pred]"
   ]
  },
  {
   "cell_type": "code",
   "execution_count": 95,
   "id": "6e6c6bae",
   "metadata": {},
   "outputs": [
    {
     "data": {
      "text/plain": [
       "array([[2.5708887e-01, 3.0852911e-19, 3.9498147e-04, ..., 1.0663018e-10,\n",
       "        7.4531258e-06, 4.6493909e-10],\n",
       "       [0.0000000e+00, 0.0000000e+00, 0.0000000e+00, ..., 8.9914858e-09,\n",
       "        1.0105289e-35, 1.5157222e-28],\n",
       "       [4.5758406e-38, 1.0918921e-19, 1.4679232e-19, ..., 4.4817509e-19,\n",
       "        2.2756569e-25, 6.1715529e-23],\n",
       "       ...,\n",
       "       [8.9050872e-37, 0.0000000e+00, 9.1854942e-13, ..., 1.6335850e-13,\n",
       "        2.4812906e-08, 1.2639280e-11],\n",
       "       [0.0000000e+00, 0.0000000e+00, 0.0000000e+00, ..., 3.9873554e-24,\n",
       "        2.6636337e-21, 0.0000000e+00],\n",
       "       [1.5324780e-34, 8.5877386e-27, 9.7805878e-12, ..., 2.1622173e-22,\n",
       "        2.6755152e-13, 1.7583274e-06]], dtype=float32)"
      ]
     },
     "execution_count": 95,
     "metadata": {},
     "output_type": "execute_result"
    }
   ],
   "source": [
    "y_pred"
   ]
  },
  {
   "cell_type": "code",
   "execution_count": 96,
   "id": "c2cbba77",
   "metadata": {},
   "outputs": [
    {
     "data": {
      "text/plain": [
       "[17, 3, 12, 36, 43]"
      ]
     },
     "execution_count": 96,
     "metadata": {},
     "output_type": "execute_result"
    }
   ],
   "source": [
    "y_classes[:5]"
   ]
  },
  {
   "cell_type": "code",
   "execution_count": 97,
   "id": "3448f0c7",
   "metadata": {},
   "outputs": [
    {
     "data": {
      "text/plain": [
       "array([46, 32, 21, 25, 37])"
      ]
     },
     "execution_count": 97,
     "metadata": {},
     "output_type": "execute_result"
    }
   ],
   "source": [
    "y_test[:5]"
   ]
  },
  {
   "cell_type": "code",
   "execution_count": null,
   "id": "557c7d6c",
   "metadata": {},
   "outputs": [],
   "source": []
  }
 ],
 "metadata": {
  "kernelspec": {
   "display_name": "Python 3.10 (tensorflow)",
   "language": "python",
   "name": "tensorflow"
  },
  "language_info": {
   "codemirror_mode": {
    "name": "ipython",
    "version": 3
   },
   "file_extension": ".py",
   "mimetype": "text/x-python",
   "name": "python",
   "nbconvert_exporter": "python",
   "pygments_lexer": "ipython3",
   "version": "3.10.12"
  }
 },
 "nbformat": 4,
 "nbformat_minor": 5
}
